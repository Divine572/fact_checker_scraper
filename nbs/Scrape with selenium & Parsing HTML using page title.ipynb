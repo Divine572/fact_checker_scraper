{
 "cells": [
  {
   "cell_type": "code",
   "execution_count": 1,
   "id": "046d613e",
   "metadata": {},
   "outputs": [
    {
     "name": "stdout",
     "output_type": "stream",
     "text": [
      "/Users/apple/Desktop/projects/fact_checker_scraper/nbs\r\n"
     ]
    }
   ],
   "source": [
    "!pwd"
   ]
  },
  {
   "cell_type": "code",
   "execution_count": 2,
   "id": "f35691b0",
   "metadata": {},
   "outputs": [
    {
     "name": "stdout",
     "output_type": "stream",
     "text": [
      "/Users/apple/Desktop/projects/fact_checker_scraper\n"
     ]
    }
   ],
   "source": [
    "cd /Users/apple/Desktop/projects/fact_checker_scraper"
   ]
  },
  {
   "cell_type": "code",
   "execution_count": 3,
   "id": "36ef3921",
   "metadata": {},
   "outputs": [],
   "source": [
    "from app import scraper\n",
    "import pprint\n",
    "import re\n",
    "from requests_html import HTML\n",
    "from slugify import slugify"
   ]
  },
  {
   "cell_type": "code",
   "execution_count": 4,
   "id": "60ce46e7",
   "metadata": {},
   "outputs": [],
   "source": [
    "# url = 'https://dubawa.org/is-lagos-largest-economy-in-africa-fact-checking-tinubus-claims-on-governorship-term/'\n",
    "# url = 'https://dubawa.org/false-inec-did-not-extend-online-voter-registration/#'\n",
    "# url = 'https://dubawa.org/is-it-true-coconut-water-stops-diarrhea/'\n",
    "page_title = 'Is it true coconut water stops diarrhea?'\n",
    "site_name = 'dubawa'\n",
    "\n",
    "s = scraper.Scraper(page_title=page_title, endless_scroll=True, site_name=site_name)"
   ]
  },
  {
   "cell_type": "code",
   "execution_count": 5,
   "id": "05609ac1",
   "metadata": {},
   "outputs": [
    {
     "ename": "WebDriverException",
     "evalue": "Message: unknown error: net::ERR_CONNECTION_RESET\n  (Session info: headless chrome=108.0.5359.124)\nStacktrace:\n0   chromedriver                        0x0000000100f83f38 chromedriver + 4910904\n1   chromedriver                        0x0000000100f03a03 chromedriver + 4385283\n2   chromedriver                        0x0000000100b48747 chromedriver + 472903\n3   chromedriver                        0x0000000100b40242 chromedriver + 438850\n4   chromedriver                        0x0000000100b3217d chromedriver + 381309\n5   chromedriver                        0x0000000100b338d5 chromedriver + 387285\n6   chromedriver                        0x0000000100b324ad chromedriver + 382125\n7   chromedriver                        0x0000000100b3122f chromedriver + 377391\n8   chromedriver                        0x0000000100b310a0 chromedriver + 376992\n9   chromedriver                        0x0000000100b2f7f2 chromedriver + 370674\n10  chromedriver                        0x0000000100b2fbb4 chromedriver + 371636\n11  chromedriver                        0x0000000100b4ab68 chromedriver + 482152\n12  chromedriver                        0x0000000100bce9e1 chromedriver + 1022433\n13  chromedriver                        0x0000000100bb3112 chromedriver + 909586\n14  chromedriver                        0x0000000100bce28e chromedriver + 1020558\n15  chromedriver                        0x0000000100bb2ee3 chromedriver + 909027\n16  chromedriver                        0x0000000100b7d30c chromedriver + 688908\n17  chromedriver                        0x0000000100b7e88e chromedriver + 694414\n18  chromedriver                        0x0000000100f511de chromedriver + 4702686\n19  chromedriver                        0x0000000100f55b19 chromedriver + 4721433\n20  chromedriver                        0x0000000100f5d28e chromedriver + 4752014\n21  chromedriver                        0x0000000100f5691a chromedriver + 4725018\n22  chromedriver                        0x0000000100f2ab02 chromedriver + 4545282\n23  chromedriver                        0x0000000100f75888 chromedriver + 4851848\n24  chromedriver                        0x0000000100f75a05 chromedriver + 4852229\n25  chromedriver                        0x0000000100f8be5f chromedriver + 4943455\n26  libsystem_pthread.dylib             0x00007ff80b3f54f4 _pthread_start + 125\n27  libsystem_pthread.dylib             0x00007ff80b3f100f thread_start + 15\n",
     "output_type": "error",
     "traceback": [
      "\u001b[0;31m---------------------------------------------------------------------------\u001b[0m",
      "\u001b[0;31mWebDriverException\u001b[0m                        Traceback (most recent call last)",
      "Cell \u001b[0;32mIn[5], line 1\u001b[0m\n\u001b[0;32m----> 1\u001b[0m html_str \u001b[38;5;241m=\u001b[39m \u001b[43ms\u001b[49m\u001b[38;5;241;43m.\u001b[39;49m\u001b[43mget\u001b[49m\u001b[43m(\u001b[49m\u001b[43m)\u001b[49m\n",
      "File \u001b[0;32m~/Desktop/projects/fact_checker_scraper/app/scraper.py:77\u001b[0m, in \u001b[0;36mScraper.get\u001b[0;34m(self)\u001b[0m\n\u001b[1;32m     75\u001b[0m \u001b[38;5;28;01mdef\u001b[39;00m \u001b[38;5;21mget\u001b[39m(\u001b[38;5;28mself\u001b[39m):\n\u001b[1;32m     76\u001b[0m     driver \u001b[38;5;241m=\u001b[39m \u001b[38;5;28mself\u001b[39m\u001b[38;5;241m.\u001b[39mget_driver()\n\u001b[0;32m---> 77\u001b[0m     \u001b[43mdriver\u001b[49m\u001b[38;5;241;43m.\u001b[39;49m\u001b[43mget\u001b[49m\u001b[43m(\u001b[49m\u001b[38;5;28;43mself\u001b[39;49m\u001b[38;5;241;43m.\u001b[39;49m\u001b[43murl\u001b[49m\u001b[43m)\u001b[49m\n\u001b[1;32m     78\u001b[0m     \u001b[38;5;28;01mif\u001b[39;00m \u001b[38;5;28mself\u001b[39m\u001b[38;5;241m.\u001b[39mendless_scroll:\n\u001b[1;32m     79\u001b[0m         \u001b[38;5;28mself\u001b[39m\u001b[38;5;241m.\u001b[39mperform_endless_scroll(driver\u001b[38;5;241m=\u001b[39mdriver)\n",
      "File \u001b[0;32m~/Desktop/projects/fact_checker_scraper/.venv/lib/python3.11/site-packages/selenium/webdriver/remote/webdriver.py:455\u001b[0m, in \u001b[0;36mWebDriver.get\u001b[0;34m(self, url)\u001b[0m\n\u001b[1;32m    451\u001b[0m \u001b[38;5;28;01mdef\u001b[39;00m \u001b[38;5;21mget\u001b[39m(\u001b[38;5;28mself\u001b[39m, url: \u001b[38;5;28mstr\u001b[39m) \u001b[38;5;241m-\u001b[39m\u001b[38;5;241m>\u001b[39m \u001b[38;5;28;01mNone\u001b[39;00m:\n\u001b[1;32m    452\u001b[0m \u001b[38;5;250m    \u001b[39m\u001b[38;5;124;03m\"\"\"\u001b[39;00m\n\u001b[1;32m    453\u001b[0m \u001b[38;5;124;03m    Loads a web page in the current browser session.\u001b[39;00m\n\u001b[1;32m    454\u001b[0m \u001b[38;5;124;03m    \"\"\"\u001b[39;00m\n\u001b[0;32m--> 455\u001b[0m     \u001b[38;5;28;43mself\u001b[39;49m\u001b[38;5;241;43m.\u001b[39;49m\u001b[43mexecute\u001b[49m\u001b[43m(\u001b[49m\u001b[43mCommand\u001b[49m\u001b[38;5;241;43m.\u001b[39;49m\u001b[43mGET\u001b[49m\u001b[43m,\u001b[49m\u001b[43m \u001b[49m\u001b[43m{\u001b[49m\u001b[38;5;124;43m\"\u001b[39;49m\u001b[38;5;124;43murl\u001b[39;49m\u001b[38;5;124;43m\"\u001b[39;49m\u001b[43m:\u001b[49m\u001b[43m \u001b[49m\u001b[43murl\u001b[49m\u001b[43m}\u001b[49m\u001b[43m)\u001b[49m\n",
      "File \u001b[0;32m~/Desktop/projects/fact_checker_scraper/.venv/lib/python3.11/site-packages/selenium/webdriver/remote/webdriver.py:444\u001b[0m, in \u001b[0;36mWebDriver.execute\u001b[0;34m(self, driver_command, params)\u001b[0m\n\u001b[1;32m    442\u001b[0m response \u001b[38;5;241m=\u001b[39m \u001b[38;5;28mself\u001b[39m\u001b[38;5;241m.\u001b[39mcommand_executor\u001b[38;5;241m.\u001b[39mexecute(driver_command, params)\n\u001b[1;32m    443\u001b[0m \u001b[38;5;28;01mif\u001b[39;00m response:\n\u001b[0;32m--> 444\u001b[0m     \u001b[38;5;28;43mself\u001b[39;49m\u001b[38;5;241;43m.\u001b[39;49m\u001b[43merror_handler\u001b[49m\u001b[38;5;241;43m.\u001b[39;49m\u001b[43mcheck_response\u001b[49m\u001b[43m(\u001b[49m\u001b[43mresponse\u001b[49m\u001b[43m)\u001b[49m\n\u001b[1;32m    445\u001b[0m     response[\u001b[38;5;124m\"\u001b[39m\u001b[38;5;124mvalue\u001b[39m\u001b[38;5;124m\"\u001b[39m] \u001b[38;5;241m=\u001b[39m \u001b[38;5;28mself\u001b[39m\u001b[38;5;241m.\u001b[39m_unwrap_value(response\u001b[38;5;241m.\u001b[39mget(\u001b[38;5;124m\"\u001b[39m\u001b[38;5;124mvalue\u001b[39m\u001b[38;5;124m\"\u001b[39m, \u001b[38;5;28;01mNone\u001b[39;00m))\n\u001b[1;32m    446\u001b[0m     \u001b[38;5;28;01mreturn\u001b[39;00m response\n",
      "File \u001b[0;32m~/Desktop/projects/fact_checker_scraper/.venv/lib/python3.11/site-packages/selenium/webdriver/remote/errorhandler.py:249\u001b[0m, in \u001b[0;36mErrorHandler.check_response\u001b[0;34m(self, response)\u001b[0m\n\u001b[1;32m    247\u001b[0m         alert_text \u001b[38;5;241m=\u001b[39m value[\u001b[38;5;124m\"\u001b[39m\u001b[38;5;124malert\u001b[39m\u001b[38;5;124m\"\u001b[39m]\u001b[38;5;241m.\u001b[39mget(\u001b[38;5;124m\"\u001b[39m\u001b[38;5;124mtext\u001b[39m\u001b[38;5;124m\"\u001b[39m)\n\u001b[1;32m    248\u001b[0m     \u001b[38;5;28;01mraise\u001b[39;00m exception_class(message, screen, stacktrace, alert_text)  \u001b[38;5;66;03m# type: ignore[call-arg]  # mypy is not smart enough here\u001b[39;00m\n\u001b[0;32m--> 249\u001b[0m \u001b[38;5;28;01mraise\u001b[39;00m exception_class(message, screen, stacktrace)\n",
      "\u001b[0;31mWebDriverException\u001b[0m: Message: unknown error: net::ERR_CONNECTION_RESET\n  (Session info: headless chrome=108.0.5359.124)\nStacktrace:\n0   chromedriver                        0x0000000100f83f38 chromedriver + 4910904\n1   chromedriver                        0x0000000100f03a03 chromedriver + 4385283\n2   chromedriver                        0x0000000100b48747 chromedriver + 472903\n3   chromedriver                        0x0000000100b40242 chromedriver + 438850\n4   chromedriver                        0x0000000100b3217d chromedriver + 381309\n5   chromedriver                        0x0000000100b338d5 chromedriver + 387285\n6   chromedriver                        0x0000000100b324ad chromedriver + 382125\n7   chromedriver                        0x0000000100b3122f chromedriver + 377391\n8   chromedriver                        0x0000000100b310a0 chromedriver + 376992\n9   chromedriver                        0x0000000100b2f7f2 chromedriver + 370674\n10  chromedriver                        0x0000000100b2fbb4 chromedriver + 371636\n11  chromedriver                        0x0000000100b4ab68 chromedriver + 482152\n12  chromedriver                        0x0000000100bce9e1 chromedriver + 1022433\n13  chromedriver                        0x0000000100bb3112 chromedriver + 909586\n14  chromedriver                        0x0000000100bce28e chromedriver + 1020558\n15  chromedriver                        0x0000000100bb2ee3 chromedriver + 909027\n16  chromedriver                        0x0000000100b7d30c chromedriver + 688908\n17  chromedriver                        0x0000000100b7e88e chromedriver + 694414\n18  chromedriver                        0x0000000100f511de chromedriver + 4702686\n19  chromedriver                        0x0000000100f55b19 chromedriver + 4721433\n20  chromedriver                        0x0000000100f5d28e chromedriver + 4752014\n21  chromedriver                        0x0000000100f5691a chromedriver + 4725018\n22  chromedriver                        0x0000000100f2ab02 chromedriver + 4545282\n23  chromedriver                        0x0000000100f75888 chromedriver + 4851848\n24  chromedriver                        0x0000000100f75a05 chromedriver + 4852229\n25  chromedriver                        0x0000000100f8be5f chromedriver + 4943455\n26  libsystem_pthread.dylib             0x00007ff80b3f54f4 _pthread_start + 125\n27  libsystem_pthread.dylib             0x00007ff80b3f100f thread_start + 15\n"
     ]
    }
   ],
   "source": [
    "html_str = s.get()"
   ]
  },
  {
   "cell_type": "code",
   "execution_count": null,
   "id": "421fed02",
   "metadata": {},
   "outputs": [],
   "source": [
    "html_obj = HTML(html=html_str)"
   ]
  },
  {
   "cell_type": "code",
   "execution_count": null,
   "id": "8b34fa5f",
   "metadata": {},
   "outputs": [],
   "source": [
    "def extract_element_text(html_obj, element_id):\n",
    "    el = html_obj.find(element_id, first=True)\n",
    "    if not el:\n",
    "        return ''\n",
    "    return el.text"
   ]
  },
  {
   "cell_type": "code",
   "execution_count": null,
   "id": "cdc3960b",
   "metadata": {},
   "outputs": [],
   "source": [
    "# Title\n",
    "# Author\n",
    "# Page date\n",
    "# Page banner/ image\n",
    "# Page claim\n",
    "# Page verdict"
   ]
  },
  {
   "cell_type": "code",
   "execution_count": null,
   "id": "48a6526b",
   "metadata": {},
   "outputs": [],
   "source": [
    "d_title = extract_element_text(html_obj, '.post-title')\n",
    "d_title"
   ]
  },
  {
   "cell_type": "code",
   "execution_count": null,
   "id": "714fb621",
   "metadata": {},
   "outputs": [],
   "source": [
    "d_author = extract_element_text(html_obj, '.author-name')\n",
    "d_author"
   ]
  },
  {
   "cell_type": "code",
   "execution_count": null,
   "id": "c00d4ac2",
   "metadata": {},
   "outputs": [],
   "source": [
    "d_page_date = extract_element_text(html_obj, '.date')\n",
    "d_page_date"
   ]
  },
  {
   "cell_type": "code",
   "execution_count": null,
   "id": "4aeb8859",
   "metadata": {},
   "outputs": [],
   "source": []
  },
  {
   "cell_type": "code",
   "execution_count": null,
   "id": "172ca68f",
   "metadata": {},
   "outputs": [],
   "source": [
    "def extract_element_src(html_obj, element_id):\n",
    "    el = html_obj.find(element_id, first=True)\n",
    "    if not el:\n",
    "        return ''\n",
    "    return el.attrs['src']"
   ]
  },
  {
   "cell_type": "code",
   "execution_count": null,
   "id": "3d5b9dd4",
   "metadata": {},
   "outputs": [],
   "source": [
    "d_page_banner = extract_element_src(html_obj,'.wp-post-image')\n",
    "d_page_banner"
   ]
  },
  {
   "cell_type": "code",
   "execution_count": null,
   "id": "dc1d7310",
   "metadata": {},
   "outputs": [],
   "source": [
    "claim_list = []\n",
    "d_claim = html_obj.find('.has-cyan-bluish-gray-background-color')\n",
    "for claim in d_claim:\n",
    "    claim_list.append(claim.text)\n",
    "claim_list"
   ]
  },
  {
   "cell_type": "code",
   "execution_count": null,
   "id": "4845ee4f",
   "metadata": {},
   "outputs": [],
   "source": [
    "def extract_claim(html_obj, element_id):\n",
    "    \"\"\"\n",
    "    returns a list of claims\n",
    "    \"\"\"\n",
    "    claim_list = []\n",
    "    el = html_obj.find(element_id)\n",
    "    for claim in el:\n",
    "        claim_list.append(claim.text)\n",
    "    return claim_list"
   ]
  },
  {
   "cell_type": "code",
   "execution_count": null,
   "id": "3a48e0b7",
   "metadata": {},
   "outputs": [],
   "source": [
    "d_claim = extract_claim(html_obj, '.has-cyan-bluish-gray-background-color')\n",
    "d_claim"
   ]
  },
  {
   "cell_type": "code",
   "execution_count": null,
   "id": "e283e653",
   "metadata": {},
   "outputs": [],
   "source": [
    "\n",
    "verdict_dataset= {}\n",
    "verdict_list = []\n",
    "verdict_tag = []\n",
    "verdicts_key = html_obj.find('.has-background')\n",
    "verdicts_value = html_obj.find('.alignright img')\n",
    "\n",
    "for i, v_strong in enumerate(verdicts_key):\n",
    "    if i % 2 != 0:\n",
    "        key = v_strong.text\n",
    "        verdict_list.append(key)\n",
    "for src in verdicts_value:\n",
    "    image = src.attrs['src'].lower()\n",
    "    verdict = image.split('/')[-1].split('-')[0]\n",
    "    verdict_tag.append(verdict)\n",
    "verdict_tag = list(set(verdict_tag))\n",
    "for i, key in enumerate(verdict_list):\n",
    "    verdict_dataset[key] = verdict_tag[i]\n",
    "    \n",
    "\n",
    "        \n",
    "print(verdict_list)\n",
    "print(verdict_tag)\n",
    "print(verdict_dataset)"
   ]
  },
  {
   "cell_type": "code",
   "execution_count": null,
   "id": "7483bd74",
   "metadata": {},
   "outputs": [],
   "source": [
    "def extract_verdicts(html_obj):\n",
    "    verdict_dataset= {}\n",
    "    verdict_list = []\n",
    "    verdict_tag = []\n",
    "    verdicts_key = html_obj.find('.has-background')\n",
    "    verdicts_value = html_obj.find('.alignright img')\n",
    "\n",
    "    for i, v_strong in enumerate(verdicts_key):\n",
    "        if i % 2 != 0:\n",
    "            key = v_strong.text\n",
    "            verdict_list.append(key)\n",
    "    for src in verdicts_value:\n",
    "        image = src.attrs['src'].lower()\n",
    "        verdict = image.split('/')[-1].split('-')[0]\n",
    "        verdict_tag.append(verdict)\n",
    "    verdict_tag = list(set(verdict_tag))\n",
    "    for i, key in enumerate(verdict_list):\n",
    "        verdict_dataset[key] = verdict_tag[i]\n",
    "    return verdict_dataset\n",
    "    "
   ]
  },
  {
   "cell_type": "code",
   "execution_count": null,
   "id": "54debc3b",
   "metadata": {},
   "outputs": [],
   "source": [
    "extract_verdicts(html_obj)"
   ]
  },
  {
   "cell_type": "code",
   "execution_count": null,
   "id": "9a557dc5",
   "metadata": {},
   "outputs": [],
   "source": [
    "dataset = s.scrape()\n",
    "pprint.pprint(dataset)"
   ]
  },
  {
   "cell_type": "code",
   "execution_count": null,
   "id": "02d1d471",
   "metadata": {},
   "outputs": [],
   "source": []
  }
 ],
 "metadata": {
  "kernelspec": {
   "display_name": "Python 3 (ipykernel)",
   "language": "python",
   "name": "python3"
  },
  "language_info": {
   "codemirror_mode": {
    "name": "ipython",
    "version": 3
   },
   "file_extension": ".py",
   "mimetype": "text/x-python",
   "name": "python",
   "nbconvert_exporter": "python",
   "pygments_lexer": "ipython3",
   "version": "3.11.0"
  }
 },
 "nbformat": 4,
 "nbformat_minor": 5
}
