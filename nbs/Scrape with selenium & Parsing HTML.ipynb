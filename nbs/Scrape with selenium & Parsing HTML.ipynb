{
 "cells": [
  {
   "cell_type": "code",
   "execution_count": 1,
   "id": "046d613e",
   "metadata": {},
   "outputs": [
    {
     "name": "stdout",
     "output_type": "stream",
     "text": [
      "/Users/apple/Desktop/projects/fact_checker_scraper/nbs\r\n"
     ]
    }
   ],
   "source": [
    "!pwd"
   ]
  },
  {
   "cell_type": "code",
   "execution_count": 2,
   "id": "f35691b0",
   "metadata": {},
   "outputs": [
    {
     "name": "stdout",
     "output_type": "stream",
     "text": [
      "/Users/apple/Desktop/projects/fact_checker_scraper\n"
     ]
    }
   ],
   "source": [
    "cd /Users/apple/Desktop/projects/fact_checker_scraper"
   ]
  },
  {
   "cell_type": "code",
   "execution_count": 3,
   "id": "36ef3921",
   "metadata": {},
   "outputs": [],
   "source": [
    "from app import scraper\n",
    "import pprint\n",
    "import re\n",
    "from requests_html import HTML\n",
    "from slugify import slugify"
   ]
  },
  {
   "cell_type": "code",
   "execution_count": 4,
   "id": "272b6529",
   "metadata": {},
   "outputs": [],
   "source": [
    "# site_name = 'dubawa'\n",
    "# page_title= 'Is Lagos largest economy in Africa? Fact-checking Tinubu’s claims on governorship term'"
   ]
  },
  {
   "cell_type": "code",
   "execution_count": 5,
   "id": "cbf345ed",
   "metadata": {},
   "outputs": [],
   "source": [
    "# s = scraper.Scrapper(site_name=site_name, endless_scroll=True, page_title=page_title)"
   ]
  },
  {
   "cell_type": "code",
   "execution_count": 6,
   "id": "dc13fdcc",
   "metadata": {},
   "outputs": [],
   "source": [
    "# url = 'https://dubawa.org/is-lagos-largest-economy-in-africa-fact-checking-tinubus-claims-on-governorship-term/'\n",
    "# s = scraper.Scrapper(url=url, endless_scroll=True)"
   ]
  },
  {
   "cell_type": "code",
   "execution_count": 7,
   "id": "a42b4509",
   "metadata": {},
   "outputs": [],
   "source": [
    "# html_str = s.get()"
   ]
  },
  {
   "cell_type": "code",
   "execution_count": 8,
   "id": "9d4a6f01",
   "metadata": {},
   "outputs": [],
   "source": [
    "# html_obj = HTML(html=html_str)"
   ]
  },
  {
   "cell_type": "code",
   "execution_count": 9,
   "id": "5693bc69",
   "metadata": {},
   "outputs": [],
   "source": [
    "# Dubawa\n",
    "# d_title = html_obj.find('.post-title', first=True).text\n",
    "# d_title"
   ]
  },
  {
   "cell_type": "code",
   "execution_count": 10,
   "id": "f5805b27",
   "metadata": {},
   "outputs": [],
   "source": [
    "# AfricaCheck\n",
    "# a_title = html_obj.find('.page-title', first=True).text\n",
    "# a_title"
   ]
  },
  {
   "cell_type": "code",
   "execution_count": 11,
   "id": "96308adc",
   "metadata": {},
   "outputs": [],
   "source": [
    "# thecable\n",
    "# c_title = html_obj.find('.article-title', first=True).text\n",
    "# c_title"
   ]
  },
  {
   "cell_type": "code",
   "execution_count": 12,
   "id": "142decbb",
   "metadata": {},
   "outputs": [],
   "source": [
    "# checkghana\n",
    "# g_title = html_obj.find('.tdb-title-text', first=True).text\n",
    "# g_title"
   ]
  },
  {
   "cell_type": "code",
   "execution_count": 13,
   "id": "4283225e",
   "metadata": {},
   "outputs": [],
   "source": [
    "# page_title = 'Is Lagos largest economy in Africa? Fact-checking Tinubu’s claims on governorship term'\n",
    "# s = scraper.Scrapper(page_title=page_title)\n",
    "# print(s.url)\n",
    "# print(s.page_title)"
   ]
  },
  {
   "cell_type": "code",
   "execution_count": 15,
   "id": "274734ef",
   "metadata": {},
   "outputs": [],
   "source": [
    "url = 'https://dubawa.org/is-lagos-largest-economy-in-africa-fact-checking-tinubus-claims-on-governorship-term/'\n",
    "\n",
    "s = scraper.Scraper(url=url, endless_scroll=True)"
   ]
  },
  {
   "cell_type": "code",
   "execution_count": 18,
   "id": "c7975511",
   "metadata": {},
   "outputs": [],
   "source": [
    "html_str = s.get()"
   ]
  },
  {
   "cell_type": "code",
   "execution_count": 19,
   "id": "e2955037",
   "metadata": {},
   "outputs": [],
   "source": [
    "html_obj = HTML(html=html_str)"
   ]
  },
  {
   "cell_type": "code",
   "execution_count": 20,
   "id": "06ca247b",
   "metadata": {},
   "outputs": [],
   "source": [
    "def extract_element_text(html_obj, element_id):\n",
    "    el = html_obj.find(element_id, first=True)\n",
    "    if not el:\n",
    "        return ''\n",
    "    return el.text"
   ]
  },
  {
   "cell_type": "code",
   "execution_count": 21,
   "id": "9f35565f",
   "metadata": {},
   "outputs": [],
   "source": [
    "# Title\n",
    "# Author\n",
    "# Page date\n",
    "# Page banner/ image\n",
    "# Page claim\n",
    "# Page verdict"
   ]
  },
  {
   "cell_type": "code",
   "execution_count": 23,
   "id": "31be31a5",
   "metadata": {},
   "outputs": [
    {
     "data": {
      "text/plain": [
       "'Is Lagos largest economy in Africa? Fact-checking Tinubu’s claims on governorship term'"
      ]
     },
     "execution_count": 23,
     "metadata": {},
     "output_type": "execute_result"
    }
   ],
   "source": [
    "d_title = extract_element_text(html_obj, '.post-title')\n",
    "d_title"
   ]
  },
  {
   "cell_type": "code",
   "execution_count": 24,
   "id": "01bbe1e6",
   "metadata": {},
   "outputs": [
    {
     "data": {
      "text/plain": [
       "'Muktar Balogun'"
      ]
     },
     "execution_count": 24,
     "metadata": {},
     "output_type": "execute_result"
    }
   ],
   "source": [
    "d_author = extract_element_text(html_obj, '.author-name')\n",
    "d_author"
   ]
  },
  {
   "cell_type": "code",
   "execution_count": 25,
   "id": "99886e06",
   "metadata": {},
   "outputs": [
    {
     "data": {
      "text/plain": [
       "'April 26, 2022'"
      ]
     },
     "execution_count": 25,
     "metadata": {},
     "output_type": "execute_result"
    }
   ],
   "source": [
    "d_page_date = extract_element_text(html_obj, '.date')\n",
    "d_page_date"
   ]
  },
  {
   "cell_type": "code",
   "execution_count": 49,
   "id": "53cdb57e",
   "metadata": {},
   "outputs": [
    {
     "data": {
      "text/plain": [
       "'https://i0.wp.com/dubawa.org/wp-content/uploads/2021/06/tinubu9.jpg?fit=1200%2C700&ssl=1'"
      ]
     },
     "execution_count": 49,
     "metadata": {},
     "output_type": "execute_result"
    }
   ],
   "source": []
  },
  {
   "cell_type": "code",
   "execution_count": 52,
   "id": "528f01d4",
   "metadata": {},
   "outputs": [],
   "source": [
    "def extract_element_src(html_obj, element_id):\n",
    "    el = html_obj.find(element_id, first=True)\n",
    "    if not el:\n",
    "        return ''\n",
    "    return el.attrs['src']"
   ]
  },
  {
   "cell_type": "code",
   "execution_count": 53,
   "id": "2a28e19c",
   "metadata": {},
   "outputs": [
    {
     "data": {
      "text/plain": [
       "'https://i0.wp.com/dubawa.org/wp-content/uploads/2021/06/tinubu9.jpg?fit=1200%2C700&ssl=1'"
      ]
     },
     "execution_count": 53,
     "metadata": {},
     "output_type": "execute_result"
    }
   ],
   "source": [
    "d_page_banner = extract_element_src(html_obj,'.wp-post-image')\n",
    "d_page_banner"
   ]
  },
  {
   "cell_type": "code",
   "execution_count": 57,
   "id": "5592b4ff",
   "metadata": {},
   "outputs": [
    {
     "data": {
      "text/plain": [
       "['Claim: Presidential aspirant, Bola Tinubu, in a recent interview with Daily Trust made a claim that Lagos State received zero allocation from the Federation Account Allocation Committee during his tenure as the Governor of the state.',\n",
       " 'Claim 2: Bola Tinubu, in a recent interview with Daily Trust, made a claim that Lagos State is the largest economy in Africa.']"
      ]
     },
     "execution_count": 57,
     "metadata": {},
     "output_type": "execute_result"
    }
   ],
   "source": [
    "claim_list = []\n",
    "d_claim = html_obj.find('.has-cyan-bluish-gray-background-color')\n",
    "for claim in d_claim:\n",
    "    claim_list.append(claim.text)\n",
    "claim_list"
   ]
  },
  {
   "cell_type": "code",
   "execution_count": 58,
   "id": "d01dd5c1",
   "metadata": {},
   "outputs": [],
   "source": [
    "def extract_claim(html_obj, element_id):\n",
    "    \"\"\"\n",
    "    returns a list of claims\n",
    "    \"\"\"\n",
    "    claim_list = []\n",
    "    el = html_obj.find(element_id)\n",
    "    for claim in el:\n",
    "        claim_list.append(claim.text)\n",
    "    return claim_list"
   ]
  },
  {
   "cell_type": "code",
   "execution_count": 59,
   "id": "89eb008f",
   "metadata": {},
   "outputs": [
    {
     "data": {
      "text/plain": [
       "['Claim: Presidential aspirant, Bola Tinubu, in a recent interview with Daily Trust made a claim that Lagos State received zero allocation from the Federation Account Allocation Committee during his tenure as the Governor of the state.',\n",
       " 'Claim 2: Bola Tinubu, in a recent interview with Daily Trust, made a claim that Lagos State is the largest economy in Africa.']"
      ]
     },
     "execution_count": 59,
     "metadata": {},
     "output_type": "execute_result"
    }
   ],
   "source": [
    "d_claim = extract_claim(html_obj, '.has-cyan-bluish-gray-background-color')\n",
    "d_claim"
   ]
  },
  {
   "cell_type": "code",
   "execution_count": 133,
   "id": "36580c4c",
   "metadata": {},
   "outputs": [
    {
     "name": "stdout",
     "output_type": "stream",
     "text": [
      "['Bola Tinubu failed to mention that the federal government started to withhold Lagos State funds in 2004 while his tenure started in 1999. This means he received allocations from FAAC until April, 2004.', 'Nigeria is the largest economy in Africa. Also, there are no substantial statistics pointing to the direction of Lagos as the largest economy amongst cities in Africa.']\n",
      "['misleading', 'false']\n",
      "{'Bola Tinubu failed to mention that the federal government started to withhold Lagos State funds in 2004 while his tenure started in 1999. This means he received allocations from FAAC until April, 2004.': 'misleading', 'Nigeria is the largest economy in Africa. Also, there are no substantial statistics pointing to the direction of Lagos as the largest economy amongst cities in Africa.': 'false'}\n"
     ]
    }
   ],
   "source": [
    "\n",
    "verdict_dataset= {}\n",
    "verdict_list = []\n",
    "verdict_tag = []\n",
    "verdicts_key = html_obj.find('.has-text-color strong')\n",
    "verdicts_value = html_obj.find('.alignright img')\n",
    "\n",
    "for i, v_strong in enumerate(verdicts_key):\n",
    "    if i % 2 != 0:\n",
    "        key = v_strong.text\n",
    "        verdict_list.append(key)\n",
    "for src in verdicts_value:\n",
    "    image = src.attrs['src'].lower()\n",
    "    verdict = image.split('/')[-1].split('-')[0]\n",
    "    verdict_tag.append(verdict)\n",
    "verdict_tag = list(set(verdict_tag))\n",
    "for i, key in enumerate(verdict_list):\n",
    "    verdict_dataset[key] = verdict_tag[i]\n",
    "    \n",
    "\n",
    "        \n",
    "print(verdict_list)\n",
    "print(verdict_tag)\n",
    "print(verdict_dataset)"
   ]
  },
  {
   "cell_type": "code",
   "execution_count": 134,
   "id": "4064801b",
   "metadata": {},
   "outputs": [],
   "source": [
    "def extract_verdicts(html_obj):\n",
    "    verdict_dataset= {}\n",
    "    verdict_list = []\n",
    "    verdict_tag = []\n",
    "    verdicts_key = html_obj.find('.has-text-color strong')\n",
    "    verdicts_value = html_obj.find('.alignright img')\n",
    "\n",
    "    for i, v_strong in enumerate(verdicts_key):\n",
    "        if i % 2 != 0:\n",
    "            key = v_strong.text\n",
    "            verdict_list.append(key)\n",
    "    for src in verdicts_value:\n",
    "        image = src.attrs['src'].lower()\n",
    "        verdict = image.split('/')[-1].split('-')[0]\n",
    "        verdict_tag.append(verdict)\n",
    "    verdict_tag = list(set(verdict_tag))\n",
    "    for i, key in enumerate(verdict_list):\n",
    "        verdict_dataset[key] = verdict_tag[i]\n",
    "    return verdict_dataset\n",
    "    "
   ]
  },
  {
   "cell_type": "code",
   "execution_count": 135,
   "id": "1e97a37e",
   "metadata": {},
   "outputs": [
    {
     "data": {
      "text/plain": [
       "{'Bola Tinubu failed to mention that the federal government started to withhold Lagos State funds in 2004 while his tenure started in 1999. This means he received allocations from FAAC until April, 2004.': 'misleading',\n",
       " 'Nigeria is the largest economy in Africa. Also, there are no substantial statistics pointing to the direction of Lagos as the largest economy amongst cities in Africa.': 'false'}"
      ]
     },
     "execution_count": 135,
     "metadata": {},
     "output_type": "execute_result"
    }
   ],
   "source": [
    "extract_verdicts(html_obj)"
   ]
  },
  {
   "cell_type": "code",
   "execution_count": null,
   "id": "0fafb5be",
   "metadata": {},
   "outputs": [],
   "source": []
  }
 ],
 "metadata": {
  "kernelspec": {
   "display_name": "Python 3 (ipykernel)",
   "language": "python",
   "name": "python3"
  },
  "language_info": {
   "codemirror_mode": {
    "name": "ipython",
    "version": 3
   },
   "file_extension": ".py",
   "mimetype": "text/x-python",
   "name": "python",
   "nbconvert_exporter": "python",
   "pygments_lexer": "ipython3",
   "version": "3.11.0"
  }
 },
 "nbformat": 4,
 "nbformat_minor": 5
}
