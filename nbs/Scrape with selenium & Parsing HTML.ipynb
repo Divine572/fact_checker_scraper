{
 "cells": [
  {
   "cell_type": "code",
   "execution_count": 1,
   "id": "046d613e",
   "metadata": {},
   "outputs": [
    {
     "name": "stdout",
     "output_type": "stream",
     "text": [
      "/Users/apple/Desktop/projects/fact_checker_scraper/nbs\r\n"
     ]
    }
   ],
   "source": [
    "!pwd"
   ]
  },
  {
   "cell_type": "code",
   "execution_count": 2,
   "id": "f35691b0",
   "metadata": {},
   "outputs": [
    {
     "name": "stdout",
     "output_type": "stream",
     "text": [
      "/Users/apple/Desktop/projects/fact_checker_scraper\n"
     ]
    }
   ],
   "source": [
    "cd /Users/apple/Desktop/projects/fact_checker_scraper"
   ]
  },
  {
   "cell_type": "code",
   "execution_count": 8,
   "id": "36ef3921",
   "metadata": {},
   "outputs": [],
   "source": [
    "from app import scraper\n",
    "import pprint\n",
    "import re\n",
    "from requests_html import HTML\n",
    "from slugify import slugify"
   ]
  },
  {
   "cell_type": "code",
   "execution_count": 9,
   "id": "272b6529",
   "metadata": {},
   "outputs": [],
   "source": [
    "site_name = 'dubawa'\n",
    "page_title= 'Is Lagos largest economy in Africa? Fact-checking Tinubu’s claims on governorship term'"
   ]
  },
  {
   "cell_type": "code",
   "execution_count": 10,
   "id": "cbf345ed",
   "metadata": {},
   "outputs": [],
   "source": [
    "# s = scraper.Scrapper(site_name=site_name, endless_scroll=True, page_title=page_title)"
   ]
  },
  {
   "cell_type": "code",
   "execution_count": 11,
   "id": "dc13fdcc",
   "metadata": {},
   "outputs": [],
   "source": [
    "url = 'https://dubawa.org/is-lagos-largest-economy-in-africa-fact-checking-tinubus-claims-on-governorship-term/'\n",
    "s = scraper.Scrapper(url=url, endless_scroll=True)"
   ]
  },
  {
   "cell_type": "code",
   "execution_count": 12,
   "id": "a42b4509",
   "metadata": {},
   "outputs": [],
   "source": [
    "html_str = s.get()"
   ]
  },
  {
   "cell_type": "code",
   "execution_count": 13,
   "id": "9d4a6f01",
   "metadata": {},
   "outputs": [],
   "source": [
    "html_obj = HTML(html=html_str)"
   ]
  },
  {
   "cell_type": "code",
   "execution_count": 15,
   "id": "5b5ae78d",
   "metadata": {},
   "outputs": [
    {
     "data": {
      "text/plain": [
       "'Is Lagos largest economy in Africa? Fact-checking Tinubu’s claims on governorship term'"
      ]
     },
     "execution_count": 15,
     "metadata": {},
     "output_type": "execute_result"
    }
   ],
   "source": [
    "# Dubawa\n",
    "d_title = html_obj.find('.post-title', first=True).text\n",
    "d_title"
   ]
  },
  {
   "cell_type": "code",
   "execution_count": null,
   "id": "b77ef912",
   "metadata": {},
   "outputs": [],
   "source": [
    "# AfricaCheck\n",
    "a_title = html_obj.find('.page-title', first=True).text\n",
    "a_title"
   ]
  },
  {
   "cell_type": "code",
   "execution_count": null,
   "id": "f3f9fdbe",
   "metadata": {},
   "outputs": [],
   "source": [
    "# thecable\n",
    "c_title = html_obj.find('.article-title', first=True).text\n",
    "c_title"
   ]
  },
  {
   "cell_type": "code",
   "execution_count": null,
   "id": "052ab88e",
   "metadata": {},
   "outputs": [],
   "source": [
    "# checkghana\n",
    "g_title = html_obj.find('.tdb-title-text', first=True).text\n",
    "g_title"
   ]
  },
  {
   "cell_type": "code",
   "execution_count": null,
   "id": "48f59b0e",
   "metadata": {},
   "outputs": [],
   "source": [
    "def extract_element_title(html_obj, element_class):\n",
    "    el = ''\n",
    "    if \n",
    "    el = html_obj.find()"
   ]
  },
  {
   "cell_type": "code",
   "execution_count": null,
   "id": "be6787ad",
   "metadata": {},
   "outputs": [],
   "source": []
  }
 ],
 "metadata": {
  "kernelspec": {
   "display_name": "Python 3 (ipykernel)",
   "language": "python",
   "name": "python3"
  },
  "language_info": {
   "codemirror_mode": {
    "name": "ipython",
    "version": 3
   },
   "file_extension": ".py",
   "mimetype": "text/x-python",
   "name": "python",
   "nbconvert_exporter": "python",
   "pygments_lexer": "ipython3",
   "version": "3.11.0"
  }
 },
 "nbformat": 4,
 "nbformat_minor": 5
}
