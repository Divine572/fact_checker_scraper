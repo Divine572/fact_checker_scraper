{
 "cells": [
  {
   "cell_type": "code",
   "execution_count": 1,
   "id": "046d613e",
   "metadata": {},
   "outputs": [
    {
     "name": "stdout",
     "output_type": "stream",
     "text": [
      "/Users/apple/Desktop/projects/fact_checker_scraper/nbs\r\n"
     ]
    }
   ],
   "source": [
    "!pwd"
   ]
  },
  {
   "cell_type": "code",
   "execution_count": 2,
   "id": "f35691b0",
   "metadata": {},
   "outputs": [
    {
     "name": "stdout",
     "output_type": "stream",
     "text": [
      "/Users/apple/Desktop/projects/fact_checker_scraper\n"
     ]
    }
   ],
   "source": [
    "cd /Users/apple/Desktop/projects/fact_checker_scraper"
   ]
  },
  {
   "cell_type": "code",
   "execution_count": 3,
   "id": "36ef3921",
   "metadata": {},
   "outputs": [],
   "source": [
    "from app import scraper\n",
    "import pprint\n",
    "import re\n",
    "from requests_html import HTML\n",
    "from slugify import slugify"
   ]
  },
  {
   "cell_type": "code",
   "execution_count": 4,
   "id": "60ce46e7",
   "metadata": {},
   "outputs": [],
   "source": [
    "# url = 'https://dubawa.org/is-lagos-largest-economy-in-africa-fact-checking-tinubus-claims-on-governorship-term/'\n",
    "# url = 'https://dubawa.org/false-inec-did-not-extend-online-voter-registration/#'\n",
    "# url = 'https://dubawa.org/is-it-true-coconut-water-stops-diarrhea/'\n",
    "page_title = 'Cancer, Dracula & Leprechauns – Any Similarities?'\n",
    "site_name = 'dubawa'\n",
    "\n",
    "s = scraper.Scraper(page_title=page_title, endless_scroll=True, site_name=site_name)"
   ]
  },
  {
   "cell_type": "code",
   "execution_count": 5,
   "id": "05609ac1",
   "metadata": {},
   "outputs": [],
   "source": [
    "html_str = s.get()\n"
   ]
  },
  {
   "cell_type": "code",
   "execution_count": 6,
   "id": "421fed02",
   "metadata": {},
   "outputs": [],
   "source": [
    "html_obj = HTML(html=html_str)"
   ]
  },
  {
   "cell_type": "code",
   "execution_count": 7,
   "id": "8b34fa5f",
   "metadata": {},
   "outputs": [],
   "source": [
    "def extract_element_text(html_obj, element_id):\n",
    "    el = html_obj.find(element_id, first=True)\n",
    "    if not el:\n",
    "        return ''\n",
    "    return el.text"
   ]
  },
  {
   "cell_type": "code",
   "execution_count": 8,
   "id": "cdc3960b",
   "metadata": {},
   "outputs": [],
   "source": [
    "# Title\n",
    "# Author\n",
    "# Page date\n",
    "# Page banner/ image\n",
    "# Page claim\n",
    "# Page verdict"
   ]
  },
  {
   "cell_type": "code",
   "execution_count": 9,
   "id": "48a6526b",
   "metadata": {},
   "outputs": [
    {
     "data": {
      "text/plain": [
       "'Cancer, Dracula & Leprechauns – Any Similarities?'"
      ]
     },
     "execution_count": 9,
     "metadata": {},
     "output_type": "execute_result"
    }
   ],
   "source": [
    "d_title = extract_element_text(html_obj, '.post-title')\n",
    "d_title"
   ]
  },
  {
   "cell_type": "code",
   "execution_count": 10,
   "id": "714fb621",
   "metadata": {},
   "outputs": [
    {
     "data": {
      "text/plain": [
       "'Victor Ndukwe'"
      ]
     },
     "execution_count": 10,
     "metadata": {},
     "output_type": "execute_result"
    }
   ],
   "source": [
    "d_author = extract_element_text(html_obj, '.author-name')\n",
    "d_author"
   ]
  },
  {
   "cell_type": "code",
   "execution_count": 11,
   "id": "c00d4ac2",
   "metadata": {},
   "outputs": [
    {
     "data": {
      "text/plain": [
       "'November 8, 2019'"
      ]
     },
     "execution_count": 11,
     "metadata": {},
     "output_type": "execute_result"
    }
   ],
   "source": [
    "d_page_date = extract_element_text(html_obj, '.date')\n",
    "d_page_date"
   ]
  },
  {
   "cell_type": "code",
   "execution_count": null,
   "id": "4aeb8859",
   "metadata": {},
   "outputs": [],
   "source": []
  },
  {
   "cell_type": "code",
   "execution_count": 12,
   "id": "172ca68f",
   "metadata": {},
   "outputs": [],
   "source": [
    "def extract_element_src(html_obj, element_id):\n",
    "    el = html_obj.find(element_id, first=True)\n",
    "    if not el:\n",
    "        return ''\n",
    "    return el.attrs['src']"
   ]
  },
  {
   "cell_type": "code",
   "execution_count": 13,
   "id": "3d5b9dd4",
   "metadata": {},
   "outputs": [
    {
     "data": {
      "text/plain": [
       "'https://i0.wp.com/dubawa.org/wp-content/uploads/2019/11/ct-powers-of-darkness-dracula-bram-stoker-asmundsson-books-0212-20170208-e1572995625751.jpg?fit=1000%2C614&ssl=1'"
      ]
     },
     "execution_count": 13,
     "metadata": {},
     "output_type": "execute_result"
    }
   ],
   "source": [
    "d_page_banner = extract_element_src(html_obj,'.wp-post-image')\n",
    "d_page_banner"
   ]
  },
  {
   "cell_type": "code",
   "execution_count": 14,
   "id": "dc1d7310",
   "metadata": {},
   "outputs": [
    {
     "data": {
      "text/plain": [
       "['So beyond the ridiculous nature of the video, is there any truth? Is cancer attracted to gold and repelled by garlic?',\n",
       " 'Did you know that there are currently anti-cancer medication made from gold?']"
      ]
     },
     "execution_count": 14,
     "metadata": {},
     "output_type": "execute_result"
    }
   ],
   "source": [
    "claim_list = []\n",
    "d_claim = html_obj.find('.has-cyan-bluish-gray-background-color')\n",
    "for claim in d_claim:\n",
    "    claim_list.append(claim.text)\n",
    "claim_list"
   ]
  },
  {
   "cell_type": "code",
   "execution_count": 15,
   "id": "4845ee4f",
   "metadata": {},
   "outputs": [],
   "source": [
    "def extract_claim(html_obj, element_id):\n",
    "    \"\"\"\n",
    "    returns a list of claims\n",
    "    \"\"\"\n",
    "    claim_list = []\n",
    "    el = html_obj.find(element_id)\n",
    "    for claim in el:\n",
    "        claim_list.append(claim.text)\n",
    "    return claim_list"
   ]
  },
  {
   "cell_type": "code",
   "execution_count": 16,
   "id": "3a48e0b7",
   "metadata": {},
   "outputs": [
    {
     "data": {
      "text/plain": [
       "['So beyond the ridiculous nature of the video, is there any truth? Is cancer attracted to gold and repelled by garlic?',\n",
       " 'Did you know that there are currently anti-cancer medication made from gold?']"
      ]
     },
     "execution_count": 16,
     "metadata": {},
     "output_type": "execute_result"
    }
   ],
   "source": [
    "d_claim = extract_claim(html_obj, '.has-cyan-bluish-gray-background-color')\n",
    "d_claim"
   ]
  },
  {
   "cell_type": "code",
   "execution_count": 17,
   "id": "e283e653",
   "metadata": {},
   "outputs": [
    {
     "name": "stdout",
     "output_type": "stream",
     "text": [
      "['The allyl sulphur components in garlic are anticarcinogenic. Likewise, gold particles bind to cancer DNA. Yet, the exaggerated premise is undeniable. Cancer cells do not survive outside their host, and they bond with gold particles – not a processed gold ring. More so, this “bond” aids in treating malignancies and does not speed up carcinogenesis.', 'Did you know that there are currently anti-cancer medication made from gold?']\n",
      "['screenshot']\n",
      "{}\n"
     ]
    }
   ],
   "source": [
    "\n",
    "verdict_dataset= {}\n",
    "verdict_list = []\n",
    "verdict_tag = []\n",
    "verdicts_key = html_obj.find('.has-background')\n",
    "verdicts_value = html_obj.find('.alignright img')\n",
    "\n",
    "for i, v_strong in enumerate(verdicts_key):\n",
    "    if i % 2 != 0:\n",
    "        key = v_strong.text\n",
    "        verdict_list.append(key)\n",
    "for src in verdicts_value:\n",
    "    image = src.attrs['src'].lower()\n",
    "    verdict = image.split('/')[-1].split('-')[0]\n",
    "    verdict_tag.append(verdict)\n",
    "verdict_tag = list(set(verdict_tag))\n",
    "# for i, key in enumerate(verdict_list):\n",
    "#     verdict_dataset[key] = verdict_tag[i]\n",
    "    \n",
    "\n",
    "        \n",
    "print(verdict_list)\n",
    "print(verdict_tag)\n",
    "print(verdict_dataset)"
   ]
  },
  {
   "cell_type": "code",
   "execution_count": 18,
   "id": "7483bd74",
   "metadata": {},
   "outputs": [],
   "source": [
    "def extract_verdicts(html_obj):\n",
    "    verdict_dataset= {}\n",
    "    verdict_list = []\n",
    "    verdict_tag = []\n",
    "    verdicts_key = html_obj.find('.has-background')\n",
    "    verdicts_value = html_obj.find('.alignright img')\n",
    "\n",
    "    for i, v_strong in enumerate(verdicts_key):\n",
    "        if i % 2 != 0:\n",
    "            key = v_strong.text\n",
    "            verdict_list.append(key)\n",
    "    for src in verdicts_value:\n",
    "        image = src.attrs['src'].lower()\n",
    "        verdict = image.split('/')[-1].split('-')[0]\n",
    "        verdict_tag.append(verdict)\n",
    "    verdict_tag = list(set(verdict_tag))\n",
    "    for i, key in enumerate(verdict_list):\n",
    "        try:\n",
    "            verdict_dataset[key] = verdict_tag[i]\n",
    "        except:\n",
    "            pass\n",
    "    return verdict_dataset\n",
    "    "
   ]
  },
  {
   "cell_type": "code",
   "execution_count": 19,
   "id": "54debc3b",
   "metadata": {},
   "outputs": [
    {
     "data": {
      "text/plain": [
       "{'The allyl sulphur components in garlic are anticarcinogenic. Likewise, gold particles bind to cancer DNA. Yet, the exaggerated premise is undeniable. Cancer cells do not survive outside their host, and they bond with gold particles – not a processed gold ring. More so, this “bond” aids in treating malignancies and does not speed up carcinogenesis.': 'screenshot'}"
      ]
     },
     "execution_count": 19,
     "metadata": {},
     "output_type": "execute_result"
    }
   ],
   "source": [
    "extract_verdicts(html_obj)"
   ]
  },
  {
   "cell_type": "code",
   "execution_count": 20,
   "id": "9a557dc5",
   "metadata": {},
   "outputs": [
    {
     "name": "stdout",
     "output_type": "stream",
     "text": [
      "{'author': 'Victor Ndukwe',\n",
      " 'claim': ['So beyond the ridiculous nature of the video, is there any truth? '\n",
      "           'Is cancer attracted to gold and repelled by garlic?',\n",
      "           'Did you know that there are currently anti-cancer medication made '\n",
      "           'from gold?'],\n",
      " 'page_banner': 'https://i0.wp.com/dubawa.org/wp-content/uploads/2019/11/ct-powers-of-darkness-dracula-bram-stoker-asmundsson-books-0212-20170208-e1572995625751.jpg?fit=1000%2C614&ssl=1',\n",
      " 'page_date': 'November 8, 2019',\n",
      " 'title': 'Cancer, Dracula & Leprechauns – Any Similarities?',\n",
      " 'verdicts': {'The allyl sulphur components in garlic are anticarcinogenic. Likewise, gold particles bind to cancer DNA. Yet, the exaggerated premise is undeniable. Cancer cells do not survive outside their host, and they bond with gold particles – not a processed gold ring. More so, this “bond” aids in treating malignancies and does not speed up carcinogenesis.': 'screenshot'}}\n"
     ]
    }
   ],
   "source": [
    "dataset = s.scrape()\n",
    "pprint.pprint(dataset)"
   ]
  },
  {
   "cell_type": "code",
   "execution_count": null,
   "id": "02d1d471",
   "metadata": {},
   "outputs": [],
   "source": []
  }
 ],
 "metadata": {
  "kernelspec": {
   "display_name": "Python 3 (ipykernel)",
   "language": "python",
   "name": "python3"
  },
  "language_info": {
   "codemirror_mode": {
    "name": "ipython",
    "version": 3
   },
   "file_extension": ".py",
   "mimetype": "text/x-python",
   "name": "python",
   "nbconvert_exporter": "python",
   "pygments_lexer": "ipython3",
   "version": "3.11.0"
  }
 },
 "nbformat": 4,
 "nbformat_minor": 5
}
