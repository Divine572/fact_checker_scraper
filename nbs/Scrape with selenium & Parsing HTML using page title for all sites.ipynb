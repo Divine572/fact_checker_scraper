{
 "cells": [
  {
   "cell_type": "code",
   "execution_count": 1,
   "id": "046d613e",
   "metadata": {},
   "outputs": [
    {
     "name": "stdout",
     "output_type": "stream",
     "text": [
      "/Users/apple/Desktop/projects/fact_checker_scraper/nbs\r\n"
     ]
    }
   ],
   "source": [
    "!pwd"
   ]
  },
  {
   "cell_type": "code",
   "execution_count": 2,
   "id": "f35691b0",
   "metadata": {},
   "outputs": [
    {
     "name": "stdout",
     "output_type": "stream",
     "text": [
      "/Users/apple/Desktop/projects/fact_checker_scraper\n"
     ]
    }
   ],
   "source": [
    "cd /Users/apple/Desktop/projects/fact_checker_scraper"
   ]
  },
  {
   "cell_type": "code",
   "execution_count": 161,
   "id": "36ef3921",
   "metadata": {},
   "outputs": [],
   "source": [
    "from app import scraper\n",
    "import pprint\n",
    "import re\n",
    "from requests_html import HTML\n",
    "from slugify import slugify"
   ]
  },
  {
   "cell_type": "markdown",
   "id": "af97c153",
   "metadata": {},
   "source": [
    "## Dubawa"
   ]
  },
  {
   "cell_type": "code",
   "execution_count": 4,
   "id": "60ce46e7",
   "metadata": {},
   "outputs": [],
   "source": [
    "# url = 'https://dubawa.org/is-lagos-largest-economy-in-africa-fact-checking-tinubus-claims-on-governorship-term/'\n",
    "# url = 'https://dubawa.org/false-inec-did-not-extend-online-voter-registration/#'\n",
    "# url = 'https://dubawa.org/is-it-true-coconut-water-stops-diarrhea/'\n",
    "page_title = 'Cancer, Dracula & Leprechauns – Any Similarities?'\n",
    "site_name = 'dubawa'\n",
    "\n",
    "s = scraper.Scraper(page_title=page_title, endless_scroll=True, site_name=site_name)"
   ]
  },
  {
   "cell_type": "code",
   "execution_count": 104,
   "id": "05609ac1",
   "metadata": {},
   "outputs": [],
   "source": [
    "html_str = s.get()\n",
    "\n"
   ]
  },
  {
   "cell_type": "code",
   "execution_count": 105,
   "id": "421fed02",
   "metadata": {},
   "outputs": [],
   "source": [
    "html_obj = HTML(html=html_str)"
   ]
  },
  {
   "cell_type": "code",
   "execution_count": 148,
   "id": "8b34fa5f",
   "metadata": {},
   "outputs": [],
   "source": [
    "def extract_element_text(html_obj, element_id):\n",
    "    el = html_obj.find(element_id, first=True)\n",
    "    if not el:\n",
    "        return ''\n",
    "    return el.text"
   ]
  },
  {
   "cell_type": "code",
   "execution_count": null,
   "id": "cdc3960b",
   "metadata": {},
   "outputs": [],
   "source": [
    "# Title\n",
    "# Author\n",
    "# Page date\n",
    "# Page banner/ image\n",
    "# Page claim\n",
    "# Page verdict"
   ]
  },
  {
   "cell_type": "code",
   "execution_count": null,
   "id": "48a6526b",
   "metadata": {},
   "outputs": [],
   "source": [
    "d_title = extract_element_text(html_obj, '.post-title')\n",
    "d_title"
   ]
  },
  {
   "cell_type": "code",
   "execution_count": null,
   "id": "714fb621",
   "metadata": {},
   "outputs": [],
   "source": [
    "d_author = extract_element_text(html_obj, '.author-name')\n",
    "d_author"
   ]
  },
  {
   "cell_type": "code",
   "execution_count": null,
   "id": "c00d4ac2",
   "metadata": {},
   "outputs": [],
   "source": [
    "d_page_date = extract_element_text(html_obj, '.date')\n",
    "d_page_date"
   ]
  },
  {
   "cell_type": "code",
   "execution_count": null,
   "id": "4aeb8859",
   "metadata": {},
   "outputs": [],
   "source": []
  },
  {
   "cell_type": "code",
   "execution_count": null,
   "id": "172ca68f",
   "metadata": {},
   "outputs": [],
   "source": [
    "def extract_element_src(html_obj, element_id):\n",
    "    el = html_obj.find(element_id, first=True)\n",
    "    if not el:\n",
    "        return ''\n",
    "    return el.attrs['src']"
   ]
  },
  {
   "cell_type": "code",
   "execution_count": null,
   "id": "3d5b9dd4",
   "metadata": {},
   "outputs": [],
   "source": [
    "d_page_banner = extract_element_src(html_obj,'.wp-post-image')\n",
    "d_page_banner"
   ]
  },
  {
   "cell_type": "code",
   "execution_count": null,
   "id": "dc1d7310",
   "metadata": {},
   "outputs": [],
   "source": [
    "claim_list = []\n",
    "d_claim = html_obj.find('.has-cyan-bluish-gray-background-color')\n",
    "for claim in d_claim:\n",
    "    claim_list.append(claim.text)\n",
    "claim_list"
   ]
  },
  {
   "cell_type": "code",
   "execution_count": null,
   "id": "4845ee4f",
   "metadata": {},
   "outputs": [],
   "source": [
    "def extract_claim(html_obj, element_id):\n",
    "    \"\"\"\n",
    "    returns a list of claims\n",
    "    \"\"\"\n",
    "    claim_list = []\n",
    "    el = html_obj.find(element_id)\n",
    "    for claim in el:\n",
    "        claim_list.append(claim.text)\n",
    "    return claim_list"
   ]
  },
  {
   "cell_type": "code",
   "execution_count": null,
   "id": "3a48e0b7",
   "metadata": {},
   "outputs": [],
   "source": [
    "d_claim = extract_claim(html_obj, '.has-cyan-bluish-gray-background-color')\n",
    "d_claim"
   ]
  },
  {
   "cell_type": "code",
   "execution_count": null,
   "id": "e283e653",
   "metadata": {},
   "outputs": [],
   "source": [
    "\n",
    "verdict_dataset= {}\n",
    "verdict_list = []\n",
    "verdict_tag = []\n",
    "verdicts_key = html_obj.find('.has-background')\n",
    "verdicts_value = html_obj.find('.alignright img')\n",
    "\n",
    "for i, v_strong in enumerate(verdicts_key):\n",
    "    if i % 2 != 0:\n",
    "        key = v_strong.text\n",
    "        verdict_list.append(key)\n",
    "for src in verdicts_value:\n",
    "    image = src.attrs['src'].lower()\n",
    "    verdict = image.split('/')[-1].split('-')[0]\n",
    "    verdict_tag.append(verdict)\n",
    "verdict_tag = list(set(verdict_tag))\n",
    "# for i, key in enumerate(verdict_list):\n",
    "#     verdict_dataset[key] = verdict_tag[i]\n",
    "    \n",
    "\n",
    "        \n",
    "print(verdict_list)\n",
    "print(verdict_tag)\n",
    "print(verdict_dataset)"
   ]
  },
  {
   "cell_type": "code",
   "execution_count": null,
   "id": "7483bd74",
   "metadata": {},
   "outputs": [],
   "source": [
    "def extract_verdicts(html_obj):\n",
    "    verdict_dataset= {}\n",
    "    verdict_list = []\n",
    "    verdict_tag = []\n",
    "    verdicts_key = html_obj.find('.has-background')\n",
    "    verdicts_value = html_obj.find('.alignright img')\n",
    "\n",
    "    for i, v_strong in enumerate(verdicts_key):\n",
    "        if i % 2 != 0:\n",
    "            key = v_strong.text\n",
    "            verdict_list.append(key)\n",
    "    for src in verdicts_value:\n",
    "        image = src.attrs['src'].lower()\n",
    "        verdict = image.split('/')[-1].split('-')[0]\n",
    "        verdict_tag.append(verdict)\n",
    "    verdict_tag = list(set(verdict_tag))\n",
    "    for i, key in enumerate(verdict_list):\n",
    "        try:\n",
    "            verdict_dataset[key] = verdict_tag[i]\n",
    "        except:\n",
    "            pass\n",
    "    return verdict_dataset\n",
    "    "
   ]
  },
  {
   "cell_type": "code",
   "execution_count": null,
   "id": "54debc3b",
   "metadata": {},
   "outputs": [],
   "source": [
    "extract_verdicts(html_obj)"
   ]
  },
  {
   "cell_type": "code",
   "execution_count": null,
   "id": "9a557dc5",
   "metadata": {},
   "outputs": [],
   "source": [
    "dataset = s.scrape()\n",
    "pprint.pprint(dataset)"
   ]
  },
  {
   "cell_type": "markdown",
   "id": "c30c690a",
   "metadata": {},
   "source": [
    "## Africa Check"
   ]
  },
  {
   "cell_type": "code",
   "execution_count": 8,
   "id": "a9f7998e",
   "metadata": {},
   "outputs": [],
   "source": [
    "page_title = 'No, former Twitter CEO Agrawal not arrested for child porn'\n",
    "site_name = 'africacheck'\n",
    "\n",
    "s = scraper.Scraper(page_title=page_title, endless_scroll=True, site_name=site_name)"
   ]
  },
  {
   "cell_type": "code",
   "execution_count": 9,
   "id": "7497add6",
   "metadata": {},
   "outputs": [],
   "source": [
    "html_str = s.get()"
   ]
  },
  {
   "cell_type": "code",
   "execution_count": 10,
   "id": "d4978eb0",
   "metadata": {},
   "outputs": [
    {
     "data": {
      "text/plain": [
       "<HTML url='https://example.org/'>"
      ]
     },
     "execution_count": 10,
     "metadata": {},
     "output_type": "execute_result"
    }
   ],
   "source": [
    "html_obj = HTML(html=html_str)\n",
    "html_obj"
   ]
  },
  {
   "cell_type": "code",
   "execution_count": 11,
   "id": "30534d13",
   "metadata": {},
   "outputs": [
    {
     "data": {
      "text/plain": [
       "'https://africacheck.org/fact-checks/reports/no-former-twitter-ceo-agrawal-not-arrested-for-child-porn'"
      ]
     },
     "execution_count": 11,
     "metadata": {},
     "output_type": "execute_result"
    }
   ],
   "source": [
    "s.url"
   ]
  },
  {
   "cell_type": "code",
   "execution_count": 12,
   "id": "05d0cbed",
   "metadata": {},
   "outputs": [],
   "source": [
    "a_title = html_obj.find('.page-title', first=True)\n",
    "a_title"
   ]
  },
  {
   "cell_type": "code",
   "execution_count": null,
   "id": "d1793f23",
   "metadata": {},
   "outputs": [],
   "source": [
    "# html_str"
   ]
  },
  {
   "cell_type": "code",
   "execution_count": null,
   "id": "0d7bbbcc",
   "metadata": {},
   "outputs": [],
   "source": []
  },
  {
   "cell_type": "markdown",
   "id": "142df274",
   "metadata": {},
   "source": [
    "## The cable"
   ]
  },
  {
   "cell_type": "code",
   "execution_count": 183,
   "id": "6e6b9584",
   "metadata": {},
   "outputs": [],
   "source": [
    "page_title = '‘Let’s get divorced’ — singer Dotman, wife clash on IG live'\n",
    "\n",
    "# page_title = '‘Big mistake’ — Kwankwaso tackles Obasanjo, Edwin Clark over Obi endorsement'\n",
    "site_name = 'thecable'\n",
    "\n",
    "s = scraper.Scraper(page_title=page_title, endless_scroll=True, site_name=site_name)"
   ]
  },
  {
   "cell_type": "code",
   "execution_count": 184,
   "id": "7ed81747",
   "metadata": {},
   "outputs": [],
   "source": [
    "html_str = s.get()"
   ]
  },
  {
   "cell_type": "code",
   "execution_count": 190,
   "id": "c470e592",
   "metadata": {},
   "outputs": [
    {
     "data": {
      "text/plain": [
       "'https://www.thecable.ng/lets-get-divorced-singer-dotman-wife-clash-on-ig-live'"
      ]
     },
     "execution_count": 190,
     "metadata": {},
     "output_type": "execute_result"
    }
   ],
   "source": [
    "s.url"
   ]
  },
  {
   "cell_type": "code",
   "execution_count": 191,
   "id": "ce6469ad",
   "metadata": {},
   "outputs": [
    {
     "data": {
      "text/plain": [
       "<HTML url='https://example.org/'>"
      ]
     },
     "execution_count": 191,
     "metadata": {},
     "output_type": "execute_result"
    }
   ],
   "source": [
    "html_obj = HTML(html=html_str)\n",
    "html_obj"
   ]
  },
  {
   "cell_type": "code",
   "execution_count": 192,
   "id": "4e67461a",
   "metadata": {},
   "outputs": [
    {
     "data": {
      "text/plain": [
       "'FGC Lagos suspends students involved in ‘sex romp’ as police…'"
      ]
     },
     "execution_count": 192,
     "metadata": {},
     "output_type": "execute_result"
    }
   ],
   "source": [
    "c_title = html_obj.find('.post-title', first=True).text\n",
    "c_title"
   ]
  },
  {
   "cell_type": "code",
   "execution_count": 187,
   "id": "2e3042af",
   "metadata": {},
   "outputs": [
    {
     "data": {
      "text/plain": [
       "'By James Ojo'"
      ]
     },
     "execution_count": 187,
     "metadata": {},
     "output_type": "execute_result"
    }
   ],
   "source": [
    "c_author = html_obj.find('.post-comment', first=True).text\n",
    "c_author\n",
    "# words = []\n",
    "# for word in c_author:\n",
    "#     words.append(word.text)\n",
    "# author = words[1]\n",
    "# author\n",
    "\n",
    "# def thecable_extract_author(html_obj, element_id):\n",
    "#     c_author = html_obj.find(element_id)\n",
    "#     words = []\n",
    "#     for word in c_author:\n",
    "#         words.append(word.text)\n",
    "#     author = words[1]\n",
    "#     return author"
   ]
  },
  {
   "cell_type": "code",
   "execution_count": 188,
   "id": "5f289905",
   "metadata": {},
   "outputs": [
    {
     "data": {
      "text/plain": [
       "'January 5, 2023'"
      ]
     },
     "execution_count": 188,
     "metadata": {},
     "output_type": "execute_result"
    }
   ],
   "source": [
    "c_page_date = html_obj.find('.post-date', first=True).text\n",
    "c_page_date"
   ]
  },
  {
   "cell_type": "code",
   "execution_count": 189,
   "id": "1b7e8fac",
   "metadata": {},
   "outputs": [
    {
     "data": {
      "text/plain": [
       "'https://w9r9i7y2.stackpathcdn.com/wp-content/uploads/2023/01/Federal-government-college-ijanikin-lagos-1-570x370.jpg'"
      ]
     },
     "execution_count": 189,
     "metadata": {},
     "output_type": "execute_result"
    }
   ],
   "source": [
    "c_page_banner = html_obj.find('.post-image img', first=True).attrs['src']\n",
    "c_page_banner"
   ]
  },
  {
   "cell_type": "code",
   "execution_count": 194,
   "id": "d7976e24",
   "metadata": {},
   "outputs": [
    {
     "name": "stdout",
     "output_type": "stream",
     "text": [
      "Olatunji Alade, the Nigerian singer better known as Dotman, and Madison, his American wife, have engaged in a heated argument in an Instagram live session.\n",
      "['Olatunji Alade, the Nigerian singer better known as Dotman, and Madison, his American wife, have engaged in a heated argument in an Instagram live session.']\n"
     ]
    }
   ],
   "source": [
    "c_claim = html_obj.find('.post-content p strong', first=True).text\n",
    "print(c_claim)\n",
    "\n",
    "def thecable_extract_claim(html_obj, element_id):\n",
    "    \"\"\"\n",
    "    returns a list of claims\n",
    "    \"\"\"\n",
    "    claim_list = []\n",
    "    claim = extract_element_text(html_obj, element_id)\n",
    "    claim_list.append(claim)\n",
    "    return claim_list\n",
    "c_claim = thecable_extract_claim(html_obj, '.post-content p strong')\n",
    "print(c_claim)"
   ]
  },
  {
   "cell_type": "code",
   "execution_count": 198,
   "id": "35b32083",
   "metadata": {},
   "outputs": [
    {
     "data": {
      "text/plain": [
       "{'Olatunji Alade, the Nigerian singer better known as Dotman, and Madison, his American wife, have engaged in a heated argument in an Instagram live session.': 'True'}"
      ]
     },
     "execution_count": 198,
     "metadata": {},
     "output_type": "execute_result"
    }
   ],
   "source": [
    "c_verdict = {}\n",
    "c_claim = html_obj.find('.post-content p strong', first=True).text\n",
    "c_verdict[c_claim] = 'True'\n",
    "c_verdict"
   ]
  },
  {
   "cell_type": "code",
   "execution_count": null,
   "id": "d28ba4cb",
   "metadata": {},
   "outputs": [],
   "source": [
    "def thecable_extract_verdict(html_obj):\n",
    "    c_verdict = {}\n",
    "    c_claim = html_obj.find('.post-content p strong', first=True).text\n",
    "    c_verdict[c_claim] = 'True'\n",
    "    return c_verdict"
   ]
  },
  {
   "cell_type": "code",
   "execution_count": null,
   "id": "b317ac02",
   "metadata": {},
   "outputs": [],
   "source": []
  },
  {
   "cell_type": "markdown",
   "id": "82e6762f",
   "metadata": {},
   "source": [
    "## factcheckghana"
   ]
  },
  {
   "cell_type": "code",
   "execution_count": 106,
   "id": "9b3ec5e2",
   "metadata": {},
   "outputs": [],
   "source": [
    "page_title = 'Factbox: Three people die on the Accra-Tema motorway every month'\n",
    "site_name = 'factcheckghana'\n",
    "\n",
    "s = scraper.Scraper(page_title=page_title, endless_scroll=True, site_name=site_name)"
   ]
  },
  {
   "cell_type": "code",
   "execution_count": 107,
   "id": "a6d2c07a",
   "metadata": {},
   "outputs": [],
   "source": [
    "html_str = s.get()"
   ]
  },
  {
   "cell_type": "code",
   "execution_count": 108,
   "id": "f55c6910",
   "metadata": {},
   "outputs": [
    {
     "data": {
      "text/plain": [
       "<HTML url='https://example.org/'>"
      ]
     },
     "execution_count": 108,
     "metadata": {},
     "output_type": "execute_result"
    }
   ],
   "source": [
    "html_obj = HTML(html=html_str)\n",
    "html_obj"
   ]
  },
  {
   "cell_type": "code",
   "execution_count": 110,
   "id": "411f960f",
   "metadata": {},
   "outputs": [
    {
     "data": {
      "text/plain": [
       "'Factbox: Three people die on the Accra-Tema motorway every month'"
      ]
     },
     "execution_count": 110,
     "metadata": {},
     "output_type": "execute_result"
    }
   ],
   "source": [
    "g_title = html_obj.find('.tdb-title-text', first=True).text\n",
    "g_title"
   ]
  },
  {
   "cell_type": "code",
   "execution_count": 111,
   "id": "25d99646",
   "metadata": {},
   "outputs": [
    {
     "data": {
      "text/plain": [
       "'https://www.fact-checkghana.com/factbox-three-people-die-on-the-accra-tema-motorway-every-month'"
      ]
     },
     "execution_count": 111,
     "metadata": {},
     "output_type": "execute_result"
    }
   ],
   "source": [
    "s.url"
   ]
  },
  {
   "cell_type": "code",
   "execution_count": 113,
   "id": "d9712314",
   "metadata": {},
   "outputs": [
    {
     "data": {
      "text/plain": [
       "'Prosper Prince Midedzi'"
      ]
     },
     "execution_count": 113,
     "metadata": {},
     "output_type": "execute_result"
    }
   ],
   "source": [
    "g_author = html_obj.find('.tdb-author-name', first=True).text\n",
    "g_author"
   ]
  },
  {
   "cell_type": "code",
   "execution_count": 117,
   "id": "3db33d51",
   "metadata": {},
   "outputs": [
    {
     "data": {
      "text/plain": [
       "'December 14, 2022'"
      ]
     },
     "execution_count": 117,
     "metadata": {},
     "output_type": "execute_result"
    }
   ],
   "source": [
    "g_date = html_obj.find('.entry-date', first=True).text\n",
    "g_date"
   ]
  },
  {
   "cell_type": "code",
   "execution_count": 120,
   "id": "d70960dc",
   "metadata": {},
   "outputs": [],
   "source": [
    "def extract_element_src(html_obj, element_id):\n",
    "    el = html_obj.find(element_id, first=True)\n",
    "    if not el:\n",
    "        return ''\n",
    "    return el.attrs['src']"
   ]
  },
  {
   "cell_type": "code",
   "execution_count": 121,
   "id": "5aee4331",
   "metadata": {},
   "outputs": [
    {
     "data": {
      "text/plain": [
       "'https://i0.wp.com/www.fact-checkghana.com/wp-content/uploads/2022/12/Tema-motarway-accident.jpeg?resize=992%2C744&ssl=1'"
      ]
     },
     "execution_count": 121,
     "metadata": {},
     "output_type": "execute_result"
    }
   ],
   "source": [
    "g_banner = extract_element_src(html_obj, '.entry-thumb')\n",
    "g_banner"
   ]
  },
  {
   "cell_type": "code",
   "execution_count": 147,
   "id": "ea1e541e",
   "metadata": {},
   "outputs": [
    {
     "data": {
      "text/plain": [
       "'Tema Motorway, the fastest and easiest route to Accra from Ghana’s industrial city, has become one of the most dangerous roads in Ghana.'"
      ]
     },
     "execution_count": 147,
     "metadata": {},
     "output_type": "execute_result"
    }
   ],
   "source": [
    "g_claim = html_obj.find('.tdb-block-inner p strong', first=True).text\n",
    "g_claim"
   ]
  },
  {
   "cell_type": "code",
   "execution_count": 150,
   "id": "9c69e1e8",
   "metadata": {},
   "outputs": [
    {
     "data": {
      "text/plain": [
       "'Tema Motorway, the fastest and easiest route to Accra from Ghana’s industrial city, has become one of the most dangerous roads in Ghana.'"
      ]
     },
     "execution_count": 150,
     "metadata": {},
     "output_type": "execute_result"
    }
   ],
   "source": [
    "g_claim = extract_element_text(html_obj, '.tdb-block-inner p strong')\n",
    "g_claim"
   ]
  },
  {
   "cell_type": "code",
   "execution_count": 153,
   "id": "463fd1ea",
   "metadata": {},
   "outputs": [],
   "source": [
    "def factcheckghana_extract_claim(html_obj, element_id):\n",
    "    \"\"\"\n",
    "    returns a list of claims\n",
    "    \"\"\"\n",
    "    claim_list = []\n",
    "    claim = extract_element_text(html_obj, '.tdb-block-inner p strong')\n",
    "    claim_list.append(claim)\n",
    "    return claim_list"
   ]
  },
  {
   "cell_type": "code",
   "execution_count": 154,
   "id": "a0484b23",
   "metadata": {},
   "outputs": [
    {
     "data": {
      "text/plain": [
       "['Tema Motorway, the fastest and easiest route to Accra from Ghana’s industrial city, has become one of the most dangerous roads in Ghana.']"
      ]
     },
     "execution_count": 154,
     "metadata": {},
     "output_type": "execute_result"
    }
   ],
   "source": [
    "factcheckghana_extract_claim(html_obj, '.tdb-block-inner p strong')"
   ]
  },
  {
   "cell_type": "code",
   "execution_count": 166,
   "id": "ad47a8f8",
   "metadata": {},
   "outputs": [
    {
     "data": {
      "text/plain": [
       "{'fact': 'True'}"
      ]
     },
     "execution_count": 166,
     "metadata": {},
     "output_type": "execute_result"
    }
   ],
   "source": [
    "def factcheckghana_extract_verdicts():\n",
    "    verdicts_dict = {}\n",
    "    g_verdict = html_obj.find('.tdb-title-text', first=True).text\n",
    "    for word in slugify(g_verdict.lower()).split('-'):\n",
    "        if word == 'factbox' or word == 'fact' or word == 'facts':\n",
    "            verdicts_dict['fact'] = 'True'\n",
    "        elif word == 'false' or word == 'not':\n",
    "            verdicts_dict['false'] = 'False'\n",
    "        elif word == 'misleading':\n",
    "            verdicts_dict['misleading'] = 'Misleading'\n",
    "    return verdicts_dict\n",
    "    "
   ]
  },
  {
   "cell_type": "code",
   "execution_count": null,
   "id": "856653a8",
   "metadata": {},
   "outputs": [],
   "source": []
  }
 ],
 "metadata": {
  "kernelspec": {
   "display_name": "Python 3 (ipykernel)",
   "language": "python",
   "name": "python3"
  },
  "language_info": {
   "codemirror_mode": {
    "name": "ipython",
    "version": 3
   },
   "file_extension": ".py",
   "mimetype": "text/x-python",
   "name": "python",
   "nbconvert_exporter": "python",
   "pygments_lexer": "ipython3",
   "version": "3.11.0"
  }
 },
 "nbformat": 4,
 "nbformat_minor": 5
}
